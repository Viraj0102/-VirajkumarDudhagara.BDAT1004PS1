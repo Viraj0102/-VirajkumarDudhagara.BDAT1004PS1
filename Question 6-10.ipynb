{
 "cells": [
  {
   "cell_type": "raw",
   "id": "3fb5a133",
   "metadata": {},
   "source": [
    "Question 6 "
   ]
  },
  {
   "cell_type": "code",
   "execution_count": null,
   "id": "3ec58179",
   "metadata": {},
   "outputs": [
    {
     "name": "stdout",
     "output_type": "stream",
     "text": [
      "Enter the word: happy\n",
      "appyhay\n"
     ]
    }
   ],
   "source": [
    "pigLatin = input(\"Enter the word: \")\n",
    "vowels = ['a','e','i','o','u']\n",
    "\n",
    "def pig(pigLatin) :\n",
    "    pigLatinLower = pigLatin.lower()\n",
    "    pigLatinFirstletter = pigLatinLower[0]\n",
    "\n",
    "    if pigLatinFirstletter in vowels :\n",
    "        pigLatin = pigLatinLower+'way'\n",
    "        return pigLatin\n",
    "    else :\n",
    "        pigLatin = pigLatinLower[1:]+pigLatinLower[0]+'ay'\n",
    "        return pigLatin\n",
    "\n",
    "print(pig(pigLatin)) \n",
    "\n",
    "pigLatin = input(\"Enter the word: \")\n",
    "vowels = ['a','e','i','o','u']\n",
    "\n",
    "def pig(pigLatin) :\n",
    "    pigLatinLower = pigLatin.lower()\n",
    "    pigLatinFirstletter = pigLatinLower[0]\n",
    "\n",
    "    if pigLatinFirstletter in vowels :\n",
    "        pigLatin = pigLatinLower+'way'\n",
    "        return pigLatin\n",
    "    else :\n",
    "        pigLatin = pigLatinLower[1:]+pigLatinLower[0]+'ay'\n",
    "        return pigLatin\n",
    "\n",
    "print(pig(pigLatin)) "
   ]
  },
  {
   "cell_type": "raw",
   "id": "c5db28a3",
   "metadata": {},
   "source": [
    "Question 7"
   ]
  },
  {
   "cell_type": "code",
   "execution_count": null,
   "id": "8be5f35c",
   "metadata": {},
   "outputs": [],
   "source": [
    "infile = open('bloodtype1.txt')\n",
    "content = infile.read()\n",
    "\n",
    "if content.count('A ') > 1:\n",
    "    print('There are {} patients of blood type A.'.format(content.count('A ')))\n",
    "elif content.count('A ') == 1:\n",
    "    print('There is one patients of blood type A.')\n",
    "else:\n",
    "    print('There are no patients of blood type A.')\n",
    "\n",
    "if content.count(' B') > 1:\n",
    "    print('There are {} patients of blood type B.'.format(content.count(' B')))\n",
    "elif content.count(' B') == 1:\n",
    "    print('There is one patients of blood type B.')\n",
    "else:\n",
    "    print('There are no patients of blood type B.')\n",
    "    \n",
    "if content.count('AB') > 1:\n",
    "    print('There are {} patients of blood type AB.'.format(content.count('AB')))\n",
    "elif content.count('AB') == 1:\n",
    "    print('There is one patients of blood type AB.')\n",
    "else:\n",
    "    print('There are no patients of blood type AB.')\n",
    "    \n",
    "if content.count('O') > 1:\n",
    "    print('There are {} patients of blood type O.'.format(content.count('O')))\n",
    "elif content.count('O') == 1:\n",
    "    print('There is one patients of blood type O.')\n",
    "else:\n",
    "    print('There are no patients of blood type O.')\n",
    "    \n",
    "if content.count('OO') > 1:\n",
    "    print('There are {} patients of blood type OO.'.format(content.count('OO')))\n",
    "elif content.count('OO') == 1:\n",
    "    print('There is one patients of blood type OO.')\n",
    "else:\n",
    "    print('There are no patients of blood type OO.')\n"
   ]
  },
  {
   "cell_type": "raw",
   "id": "01262ff6",
   "metadata": {},
   "source": [
    "Question 8 "
   ]
  },
  {
   "cell_type": "code",
   "execution_count": null,
   "id": "af301605",
   "metadata": {},
   "outputs": [],
   "source": [
    "def curconv(currency,amount):\n",
    "    file = open(\"currencies.txt\", \"r\")\n",
    "    read = file.readlines()\n",
    "    file.close()\n",
    "    for file in read :\n",
    "        group = file.split()\n",
    "        if currency == group[0]:\n",
    "            currency = float(group[1])\n",
    "            conv = amount * currency\n",
    "       \n",
    "    print(conv)   \n",
    "\n",
    "curconv('EUR',100)\n",
    "curconv('JPY',100)"
   ]
  },
  {
   "cell_type": "raw",
   "id": "831f91e2",
   "metadata": {},
   "source": [
    "Question 9"
   ]
  },
  {
   "cell_type": "code",
   "execution_count": 1,
   "id": "7bd49097",
   "metadata": {},
   "outputs": [],
   "source": [
    "#9.a\n",
    "# 6 + 'a' --> type error"
   ]
  },
  {
   "cell_type": "code",
   "execution_count": 2,
   "id": "66f467b8",
   "metadata": {},
   "outputs": [],
   "source": [
    "#9.b\n",
    "# Index error"
   ]
  },
  {
   "cell_type": "code",
   "execution_count": 3,
   "id": "7214286f",
   "metadata": {},
   "outputs": [],
   "source": [
    "#9.c\n",
    "# Math domain error"
   ]
  },
  {
   "cell_type": "code",
   "execution_count": 4,
   "id": "86f90a35",
   "metadata": {},
   "outputs": [],
   "source": [
    "#9.d\n",
    "# Name error"
   ]
  },
  {
   "cell_type": "code",
   "execution_count": 5,
   "id": "6da48ef6",
   "metadata": {},
   "outputs": [],
   "source": [
    "#9.e\n",
    "# FileNotFoundError"
   ]
  },
  {
   "cell_type": "raw",
   "id": "ed6a02b8",
   "metadata": {},
   "source": [
    "Question 10"
   ]
  },
  {
   "cell_type": "code",
   "execution_count": 6,
   "id": "026621fa",
   "metadata": {},
   "outputs": [
    {
     "name": "stdout",
     "output_type": "stream",
     "text": [
      "['1', '1', '1', '3', '5', '1', '1', '2', '1', '0', '1', '0', '1', '2', '4', '0', '1', '2', '0', '2', '1', '0', '1', '1', '0', '0']\n",
      "['1', '0', '0', '0', '1', '0', '0', '0', '0', '0', '0', '1', '0', '0', '0', '2', '0', '0', '0', '0', '0', '0', '0', '0', '0', '0']\n"
     ]
    }
   ],
   "source": [
    "def frequencies(letters):\n",
    "    freofletters = []\n",
    "    alphabets = 'abcdefghijklmnopqrstuvwxyz'\n",
    "    for each in alphabets:\n",
    "        alphabet_count = (letters.count(each))\n",
    "        freofletters +=  str(alphabet_count)\n",
    "    print(freofletters)\n",
    "    \n",
    "frequencies('The quick red fox got bored and went home.')\n",
    "frequencies('apple')"
   ]
  },
  {
   "cell_type": "code",
   "execution_count": null,
   "id": "ea6e0ba0",
   "metadata": {},
   "outputs": [],
   "source": []
  }
 ],
 "metadata": {
  "kernelspec": {
   "display_name": "Python 3 (ipykernel)",
   "language": "python",
   "name": "python3"
  },
  "language_info": {
   "codemirror_mode": {
    "name": "ipython",
    "version": 3
   },
   "file_extension": ".py",
   "mimetype": "text/x-python",
   "name": "python",
   "nbconvert_exporter": "python",
   "pygments_lexer": "ipython3",
   "version": "3.9.13"
  }
 },
 "nbformat": 4,
 "nbformat_minor": 5
}
